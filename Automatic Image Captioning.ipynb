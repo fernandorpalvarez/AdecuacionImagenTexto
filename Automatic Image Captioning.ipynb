{
 "cells": [
  {
   "cell_type": "code",
   "execution_count": 1,
   "metadata": {},
   "outputs": [],
   "source": [
    "import numpy as np\n",
    "from numpy import array\n",
    "import pandas as pd\n",
    "import matplotlib.pyplot as plt\n",
    "%matplotlib inline\n",
    "import string\n",
    "import os\n",
    "from PIL import Image\n",
    "import glob\n",
    "from pickle import dump, load\n",
    "import pickle\n",
    "from time import time\n",
    "from keras.preprocessing import sequence\n",
    "from keras.models import Sequential\n",
    "from keras.layers import LSTM, Embedding, TimeDistributed, Dense, RepeatVector,\\\n",
    "                         Activation, Flatten, Reshape, concatenate, Dropout, BatchNormalization\n",
    "from keras.optimizers import Adam, RMSprop\n",
    "from keras.layers.wrappers import Bidirectional\n",
    "from keras.layers.merge import add\n",
    "from keras.applications.inception_v3 import InceptionV3\n",
    "from keras.preprocessing import image\n",
    "from keras.models import Model\n",
    "from keras import Input, layers\n",
    "from keras import optimizers\n",
    "from keras.applications.inception_v3 import preprocess_input\n",
    "from keras.preprocessing.text import Tokenizer\n",
    "from keras.preprocessing.sequence import pad_sequences\n",
    "from keras.utils import to_categorical"
   ]
  },
  {
   "cell_type": "code",
   "execution_count": 2,
   "metadata": {},
   "outputs": [
    {
     "name": "stdout",
     "output_type": "stream",
     "text": [
      "1000268201_693b08cb0e.jpg,A child in a pink dress is climbing up a set of stairs in an entry way .\n",
      "1000268201_693b08cb0e.jpg,A girl going into a wooden building .\n",
      "1000268201_693b08cb0e.jpg,A little girl climbing into a wooden playhouse .\n",
      "1000268201_693b08cb0e.jpg,A little girl climbing the stairs to\n"
     ]
    }
   ],
   "source": [
    "# load doc into memory\n",
    "def load_doc(filename):\n",
    "\t# open the file as read only\n",
    "\tfile = open(filename, 'r')\n",
    "\t# read all text\n",
    "\ttext = file.read()\n",
    "\t# close the file\n",
    "\tfile.close()\n",
    "\treturn text\n",
    "\n",
    "filename = \"E://TFM/Flickr8k/captions.txt\"\n",
    "# load descriptions\n",
    "doc = load_doc(filename)\n",
    "print(doc[:300])"
   ]
  },
  {
   "cell_type": "code",
   "execution_count": 3,
   "metadata": {},
   "outputs": [
    {
     "name": "stdout",
     "output_type": "stream",
     "text": [
      "Loaded: 8091 \n"
     ]
    }
   ],
   "source": [
    "def load_descriptions(doc):\n",
    "\tmapping = dict()\n",
    "\t# process lines\n",
    "\tfor line in doc.split('\\n'):\n",
    "\t\t# split line by white space\n",
    "\t\ttokens = line.split()\n",
    "\t\tif len(line) < 2:\n",
    "\t\t\tcontinue\n",
    "\t\t# take the first token as the image id, the rest as the description\n",
    "\t\timage_id, image_desc = tokens[0], tokens[1:]\n",
    "\t\t# extract filename from image id\n",
    "\t\timage_id = image_id.split('.')[0]\n",
    "\t\t# convert description tokens back to string\n",
    "\t\timage_desc = ' '.join(image_desc)\n",
    "\t\t# create the list if needed\n",
    "\t\tif image_id not in mapping:\n",
    "\t\t\tmapping[image_id] = list()\n",
    "\t\t# store description\n",
    "\t\tmapping[image_id].append(image_desc)\n",
    "\treturn mapping\n",
    "\n",
    "# parse descriptions\n",
    "descriptions = load_descriptions(doc)\n",
    "print('Loaded: %d ' % len(descriptions))"
   ]
  },
  {
   "cell_type": "code",
   "execution_count": 4,
   "metadata": {},
   "outputs": [
    {
     "data": {
      "text/plain": [
       "['1000268201_693b08cb0e',\n",
       " '1001773457_577c3a7d70',\n",
       " '1002674143_1b742ab4b8',\n",
       " '1003163366_44323f5815',\n",
       " '1007129816_e794419615']"
      ]
     },
     "execution_count": 4,
     "metadata": {},
     "output_type": "execute_result"
    }
   ],
   "source": [
    "list(descriptions.keys())[:5]"
   ]
  },
  {
   "cell_type": "code",
   "execution_count": 5,
   "metadata": {},
   "outputs": [
    {
     "data": {
      "text/plain": [
       "['child in a pink dress is climbing up a set of stairs in an entry way .',\n",
       " 'girl going into a wooden building .',\n",
       " 'little girl climbing into a wooden playhouse .',\n",
       " 'little girl climbing the stairs to her playhouse .',\n",
       " 'little girl in a pink dress going into a wooden cabin .']"
      ]
     },
     "execution_count": 5,
     "metadata": {},
     "output_type": "execute_result"
    }
   ],
   "source": [
    "descriptions['1000268201_693b08cb0e']"
   ]
  },
  {
   "cell_type": "code",
   "execution_count": 6,
   "metadata": {},
   "outputs": [
    {
     "data": {
      "text/plain": [
       "['black dog and a spotted dog are fighting',\n",
       " 'black dog and a tri-colored dog playing with each other on the road .',\n",
       " 'black dog and a white dog with brown spots are staring at each other in the street .',\n",
       " 'dogs of different breeds looking at each other on the road .',\n",
       " 'dogs on pavement moving toward each other .']"
      ]
     },
     "execution_count": 6,
     "metadata": {},
     "output_type": "execute_result"
    }
   ],
   "source": [
    "descriptions['1001773457_577c3a7d70']"
   ]
  },
  {
   "cell_type": "code",
   "execution_count": 7,
   "metadata": {},
   "outputs": [],
   "source": [
    "def clean_descriptions(descriptions):\n",
    "\t# prepare translation table for removing punctuation\n",
    "\ttable = str.maketrans('', '', string.punctuation)\n",
    "\tfor key, desc_list in descriptions.items():\n",
    "\t\tfor i in range(len(desc_list)):\n",
    "\t\t\tdesc = desc_list[i]\n",
    "\t\t\t# tokenize\n",
    "\t\t\tdesc = desc.split()\n",
    "\t\t\t# convert to lower case\n",
    "\t\t\tdesc = [word.lower() for word in desc]\n",
    "\t\t\t# remove punctuation from each token\n",
    "\t\t\tdesc = [w.translate(table) for w in desc]\n",
    "\t\t\t# remove hanging 's' and 'a'\n",
    "\t\t\tdesc = [word for word in desc if len(word)>1]\n",
    "\t\t\t# remove tokens with numbers in them\n",
    "\t\t\tdesc = [word for word in desc if word.isalpha()]\n",
    "\t\t\t# store as string\n",
    "\t\t\tdesc_list[i] =  ' '.join(desc)\n",
    "\n",
    "# clean descriptions\n",
    "clean_descriptions(descriptions)"
   ]
  },
  {
   "cell_type": "code",
   "execution_count": 8,
   "metadata": {},
   "outputs": [
    {
     "data": {
      "text/plain": [
       "['child in pink dress is climbing up set of stairs in an entry way',\n",
       " 'girl going into wooden building',\n",
       " 'little girl climbing into wooden playhouse',\n",
       " 'little girl climbing the stairs to her playhouse',\n",
       " 'little girl in pink dress going into wooden cabin']"
      ]
     },
     "execution_count": 8,
     "metadata": {},
     "output_type": "execute_result"
    }
   ],
   "source": [
    "descriptions['1000268201_693b08cb0e']"
   ]
  },
  {
   "cell_type": "code",
   "execution_count": 9,
   "metadata": {},
   "outputs": [
    {
     "data": {
      "text/plain": [
       "['black dog and spotted dog are fighting',\n",
       " 'black dog and tricolored dog playing with each other on the road',\n",
       " 'black dog and white dog with brown spots are staring at each other in the street',\n",
       " 'dogs of different breeds looking at each other on the road',\n",
       " 'dogs on pavement moving toward each other']"
      ]
     },
     "execution_count": 9,
     "metadata": {},
     "output_type": "execute_result"
    }
   ],
   "source": [
    "descriptions['1001773457_577c3a7d70']"
   ]
  },
  {
   "cell_type": "code",
   "execution_count": 10,
   "metadata": {},
   "outputs": [
    {
     "name": "stdout",
     "output_type": "stream",
     "text": [
      "Original Vocabulary Size: 8680\n"
     ]
    }
   ],
   "source": [
    "# convert the loaded descriptions into a vocabulary of words\n",
    "def to_vocabulary(descriptions):\n",
    "\t# build a list of all description strings\n",
    "\tall_desc = set()\n",
    "\tfor key in descriptions.keys():\n",
    "\t\t[all_desc.update(d.split()) for d in descriptions[key]]\n",
    "\treturn all_desc\n",
    "\n",
    "# summarize vocabulary\n",
    "vocabulary = to_vocabulary(descriptions)\n",
    "print('Original Vocabulary Size: %d' % len(vocabulary))"
   ]
  },
  {
   "cell_type": "code",
   "execution_count": 11,
   "metadata": {},
   "outputs": [],
   "source": [
    "# save descriptions to file, one per line\n",
    "def save_descriptions(descriptions, filename):\n",
    "\tlines = list()\n",
    "\tfor key, desc_list in descriptions.items():\n",
    "\t\tfor desc in desc_list:\n",
    "\t\t\tlines.append(key + ' ' + desc)\n",
    "\tdata = '\\n'.join(lines)\n",
    "\tfile = open(filename, 'w')\n",
    "\tfile.write(data)\n",
    "\tfile.close()\n",
    "\n",
    "save_descriptions(descriptions, 'descriptions.txt')"
   ]
  },
  {
   "cell_type": "code",
   "execution_count": 12,
   "metadata": {},
   "outputs": [
    {
     "name": "stdout",
     "output_type": "stream",
     "text": [
      "Dataset: 6000\n"
     ]
    }
   ],
   "source": [
    "# load a pre-defined list of photo identifiers\n",
    "def load_set(filename):\n",
    "\tdoc = load_doc(filename)\n",
    "\tdataset = list()\n",
    "\t# process line by line\n",
    "\tfor line in doc.split('\\n'):\n",
    "\t\t# skip empty lines\n",
    "\t\tif len(line) < 1:\n",
    "\t\t\tcontinue\n",
    "\t\t# get the image identifier\n",
    "\t\tidentifier = line.split('.')[0]\n",
    "\t\tdataset.append(identifier)\n",
    "\treturn set(dataset)\n",
    "\n",
    "# load training dataset (6K)\n",
    "filename = 'E://TFM/Flickr8k/Flickr8k_text/Flickr_8k.trainImages.txt'\n",
    "train = load_set(filename)\n",
    "print('Dataset: %d' % len(train))"
   ]
  },
  {
   "cell_type": "code",
   "execution_count": 13,
   "metadata": {},
   "outputs": [],
   "source": [
    "# Below path contains all the images\n",
    "images = 'E://TFM/Flickr8k/Images/'\n",
    "# Create a list of all image names in the directory\n",
    "img = glob.glob(images + '*.jpg')"
   ]
  },
  {
   "cell_type": "code",
   "execution_count": 14,
   "metadata": {},
   "outputs": [],
   "source": [
    "# Below file conatains the names of images to be used in train data\n",
    "train_images_file = 'E://TFM/Flickr8k/Flickr8k_text/Flickr_8k.trainImages.txt'\n",
    "# Read the train image names in a set\n",
    "train_images = set(open(train_images_file, 'r').read().strip().split('\\n'))\n",
    "\n",
    "# Create a list of all the training images with their full path names\n",
    "train_img = []\n",
    "\n",
    "for i in img: # img is list of full path names of all images\n",
    "    if i[len(images):] in train_images: # Check if the image belongs to training set\n",
    "        train_img.append(i) # Add it to the list of train images"
   ]
  },
  {
   "cell_type": "code",
   "execution_count": 15,
   "metadata": {},
   "outputs": [],
   "source": [
    "# Below file conatains the names of images to be used in test data\n",
    "test_images_file = 'E://TFM/Flickr8k/Flickr8k_text/Flickr_8k.testImages.txt'\n",
    "# Read the validation image names in a set# Read the test image names in a set\n",
    "test_images = set(open(test_images_file, 'r').read().strip().split('\\n'))\n",
    "\n",
    "# Create a list of all the test images with their full path names\n",
    "test_img = []\n",
    "\n",
    "for i in img: # img is list of full path names of all images\n",
    "    if i[len(images):] in test_images: # Check if the image belongs to test set\n",
    "        test_img.append(i) # Add it to the list of test images"
   ]
  },
  {
   "cell_type": "code",
   "execution_count": 16,
   "metadata": {},
   "outputs": [
    {
     "name": "stdout",
     "output_type": "stream",
     "text": [
      "Descriptions: train=6000\n"
     ]
    }
   ],
   "source": [
    "# load clean descriptions into memory\n",
    "def load_clean_descriptions(filename, dataset):\n",
    "\t# load document\n",
    "\tdoc = load_doc(filename)\n",
    "\tdescriptions = dict()\n",
    "\tfor line in doc.split('\\n'):\n",
    "\t\t# split line by white space\n",
    "\t\ttokens = line.split()\n",
    "\t\t# split id from description\n",
    "\t\timage_id, image_desc = tokens[0], tokens[1:]\n",
    "\t\t# skip images not in the set\n",
    "\t\tif image_id in dataset:\n",
    "\t\t\t# create list\n",
    "\t\t\tif image_id not in descriptions:\n",
    "\t\t\t\tdescriptions[image_id] = list()\n",
    "\t\t\t# wrap description in tokens\n",
    "\t\t\tdesc = 'startseq ' + ' '.join(image_desc) + ' endseq'\n",
    "\t\t\t# store\n",
    "\t\t\tdescriptions[image_id].append(desc)\n",
    "\treturn descriptions\n",
    "\n",
    "# descriptions\n",
    "train_descriptions = load_clean_descriptions('descriptions.txt', train)\n",
    "print('Descriptions: train=%d' % len(train_descriptions))"
   ]
  },
  {
   "cell_type": "code",
   "execution_count": 17,
   "metadata": {},
   "outputs": [],
   "source": [
    "def preprocess(image_path):\n",
    "    # Convert all the images to size 299x299 as expected by the inception v3 model\n",
    "    img = image.load_img(image_path, target_size=(299, 299))\n",
    "    # Convert PIL image to numpy array of 3-dimensions\n",
    "    x = image.img_to_array(img)\n",
    "    # Add one more dimension\n",
    "    x = np.expand_dims(x, axis=0)\n",
    "    # preprocess the images using preprocess_input() from inception module\n",
    "    x = preprocess_input(x)\n",
    "    return x"
   ]
  },
  {
   "cell_type": "code",
   "execution_count": 18,
   "metadata": {},
   "outputs": [],
   "source": [
    "# Load the inception v3 model\n",
    "model = InceptionV3(weights='imagenet')"
   ]
  },
  {
   "cell_type": "code",
   "execution_count": 19,
   "metadata": {},
   "outputs": [],
   "source": [
    "# Create a new model, by removing the last layer (output layer) from the inception v3\n",
    "model_new = Model(model.input, model.layers[-2].output)"
   ]
  },
  {
   "cell_type": "code",
   "execution_count": 20,
   "metadata": {},
   "outputs": [],
   "source": [
    "# Function to encode a given image into a vector of size (2048, )\n",
    "def encode(image):\n",
    "    image = preprocess(image) # preprocess the image\n",
    "    fea_vec = model_new.predict(image) # Get the encoding vector for the image\n",
    "    fea_vec = np.reshape(fea_vec, fea_vec.shape[1]) # reshape from (1, 2048) to (2048, )\n",
    "    return fea_vec"
   ]
  },
  {
   "cell_type": "code",
   "execution_count": 21,
   "metadata": {},
   "outputs": [],
   "source": [
    "# Call the funtion to encode all the train images\n",
    "# This will take a while on CPU - Execute this only once\n",
    "# start = time()\n",
    "# encoding_train = {}\n",
    "# for img in train_img:\n",
    "#     encoding_train[img[len(images):]] = encode(img)\n",
    "# print(\"Time taken in seconds =\", time()-start)"
   ]
  },
  {
   "cell_type": "code",
   "execution_count": 22,
   "metadata": {},
   "outputs": [],
   "source": [
    "# Save the bottleneck train features to disk\n",
    "# with open(\"E://TFM/Pickle/encoded_train_images.pkl\", \"wb\") as encoded_pickle:\n",
    "#     pickle.dump(encoding_train, encoded_pickle)"
   ]
  },
  {
   "cell_type": "code",
   "execution_count": 23,
   "metadata": {},
   "outputs": [],
   "source": [
    "# Call the funtion to encode all the test images - Execute this only once\n",
    "# start = time()\n",
    "# encoding_test = {}\n",
    "# for img in test_img:\n",
    "#     encoding_test[img[len(images):]] = encode(img)\n",
    "# print(\"Time taken in seconds =\", time()-start)"
   ]
  },
  {
   "cell_type": "code",
   "execution_count": 24,
   "metadata": {},
   "outputs": [],
   "source": [
    "# Save the bottleneck test features to disk\n",
    "# with open(\"E://TFM/Pickle/encoded_test_images.pkl\", \"wb\") as encoded_pickle:\n",
    "#     pickle.dump(encoding_test, encoded_pickle)"
   ]
  },
  {
   "cell_type": "code",
   "execution_count": 25,
   "metadata": {},
   "outputs": [
    {
     "name": "stdout",
     "output_type": "stream",
     "text": [
      "Photos: train=6000\n"
     ]
    }
   ],
   "source": [
    "train_features = load(open(\"E://TFM/Pickle/encoded_train_images.pkl\", \"rb\"))\n",
    "print('Photos: train=%d' % len(train_features))"
   ]
  },
  {
   "cell_type": "code",
   "execution_count": 26,
   "metadata": {},
   "outputs": [
    {
     "name": "stdout",
     "output_type": "stream",
     "text": [
      "Photos: test=1000\n"
     ]
    }
   ],
   "source": [
    "test_features = load(open(\"E://TFM/Pickle/encoded_test_images.pkl\", \"rb\"))\n",
    "print('Photos: test=%d' % len(test_features))"
   ]
  },
  {
   "cell_type": "code",
   "execution_count": 27,
   "metadata": {},
   "outputs": [
    {
     "data": {
      "text/plain": [
       "30000"
      ]
     },
     "execution_count": 27,
     "metadata": {},
     "output_type": "execute_result"
    }
   ],
   "source": [
    "# Create a list of all the training captions\n",
    "all_train_captions = []\n",
    "for key, val in train_descriptions.items():\n",
    "    for cap in val:\n",
    "        all_train_captions.append(cap)\n",
    "len(all_train_captions)"
   ]
  },
  {
   "cell_type": "code",
   "execution_count": 28,
   "metadata": {},
   "outputs": [
    {
     "name": "stdout",
     "output_type": "stream",
     "text": [
      "preprocessed words 7506 -> 1631\n"
     ]
    }
   ],
   "source": [
    "# Consider only words which occur at least 10 times in the corpus\n",
    "word_count_threshold = 10\n",
    "word_counts = {}\n",
    "nsents = 0\n",
    "for sent in all_train_captions:\n",
    "    nsents += 1\n",
    "    for w in sent.split(' '):\n",
    "        word_counts[w] = word_counts.get(w, 0) + 1\n",
    "\n",
    "vocab = [w for w in word_counts if word_counts[w] >= word_count_threshold]\n",
    "print('preprocessed words %d -> %d' % (len(word_counts), len(vocab)))"
   ]
  },
  {
   "cell_type": "code",
   "execution_count": 29,
   "metadata": {},
   "outputs": [],
   "source": [
    "ixtoword = {}\n",
    "wordtoix = {}\n",
    "\n",
    "ix = 1\n",
    "for w in vocab:\n",
    "    wordtoix[w] = ix\n",
    "    ixtoword[ix] = w\n",
    "    ix += 1"
   ]
  },
  {
   "cell_type": "code",
   "execution_count": 30,
   "metadata": {},
   "outputs": [
    {
     "data": {
      "text/plain": [
       "1632"
      ]
     },
     "execution_count": 30,
     "metadata": {},
     "output_type": "execute_result"
    }
   ],
   "source": [
    "vocab_size = len(ixtoword) + 1 # one for appended 0's\n",
    "vocab_size"
   ]
  },
  {
   "cell_type": "code",
   "execution_count": 31,
   "metadata": {},
   "outputs": [
    {
     "name": "stdout",
     "output_type": "stream",
     "text": [
      "Description Length: 33\n"
     ]
    }
   ],
   "source": [
    "# convert a dictionary of clean descriptions to a list of descriptions\n",
    "def to_lines(descriptions):\n",
    "\tall_desc = list()\n",
    "\tfor key in descriptions.keys():\n",
    "\t\t[all_desc.append(d) for d in descriptions[key]]\n",
    "\treturn all_desc\n",
    "\n",
    "# calculate the length of the description with the most words\n",
    "def max_length(descriptions):\n",
    "\tlines = to_lines(descriptions)\n",
    "\treturn max(len(d.split()) for d in lines)\n",
    "\n",
    "# determine the maximum sequence length\n",
    "max_length = max_length(train_descriptions)\n",
    "print('Description Length: %d' % max_length)"
   ]
  },
  {
   "cell_type": "code",
   "execution_count": 32,
   "metadata": {},
   "outputs": [],
   "source": [
    "# data generator, intended to be used in a call to model.fit_generator()\n",
    "def data_generator(descriptions, photos, wordtoix, max_length, num_photos_per_batch):\n",
    "    X1, X2, y = list(), list(), list()\n",
    "    n=0\n",
    "    # loop for ever over images\n",
    "    while 1:\n",
    "        for key, desc_list in descriptions.items():\n",
    "            print(key.__class__)\n",
    "            n+=1\n",
    "            # retrieve the photo feature\n",
    "            photo = photos[key+'.jpg']\n",
    "            for desc in desc_list:\n",
    "                # encode the sequence\n",
    "                seq = [wordtoix[word] for word in desc.split(' ') if word in wordtoix]\n",
    "                # split one sequence into multiple X, y pairs\n",
    "                for i in range(1, len(seq)):\n",
    "                    # split into input and output pair\n",
    "                    in_seq, out_seq = seq[:i], seq[i]\n",
    "                    # pad input sequence\n",
    "                    in_seq = pad_sequences([in_seq], maxlen=max_length)[0]\n",
    "                    # encode output sequence\n",
    "                    out_seq = to_categorical([out_seq], num_classes=vocab_size)[0]\n",
    "                    # store\n",
    "                    X1.append(photo)\n",
    "                    X2.append(in_seq)\n",
    "                    y.append(out_seq)\n",
    "            # yield the batch data\n",
    "            if n==num_photos_per_batch:\n",
    "                yield [array(X1), array(X2)], array(y)\n",
    "                X1, X2, y = list(), list(), list()\n",
    "                n=0"
   ]
  },
  {
   "cell_type": "code",
   "execution_count": 33,
   "metadata": {},
   "outputs": [
    {
     "name": "stdout",
     "output_type": "stream",
     "text": [
      "Found 400000 word vectors.\n"
     ]
    }
   ],
   "source": [
    "# Load Glove vectors\n",
    "glove_dir = 'E://TFM/Glove/'\n",
    "embeddings_index = {} # empty dictionary\n",
    "f = open(os.path.join(glove_dir, 'glove.6B.200d.txt'), encoding=\"utf-8\")\n",
    "\n",
    "for line in f:\n",
    "    values = line.split()\n",
    "    word = values[0]\n",
    "    coefs = np.asarray(values[1:], dtype='float32')\n",
    "    embeddings_index[word] = coefs\n",
    "f.close()\n",
    "print('Found %s word vectors.' % len(embeddings_index))"
   ]
  },
  {
   "cell_type": "code",
   "execution_count": 34,
   "metadata": {},
   "outputs": [],
   "source": [
    "embedding_dim = 200\n",
    "\n",
    "# Get 200-dim dense vector for each of the 10000 words in out vocabulary\n",
    "embedding_matrix = np.zeros((vocab_size, embedding_dim))\n",
    "\n",
    "for word, i in wordtoix.items():\n",
    "    #if i < max_words:\n",
    "    embedding_vector = embeddings_index.get(word)\n",
    "    if embedding_vector is not None:\n",
    "        # Words not found in the embedding index will be all zeros\n",
    "        embedding_matrix[i] = embedding_vector"
   ]
  },
  {
   "cell_type": "code",
   "execution_count": 35,
   "metadata": {},
   "outputs": [
    {
     "data": {
      "text/plain": [
       "(1632, 200)"
      ]
     },
     "execution_count": 35,
     "metadata": {},
     "output_type": "execute_result"
    }
   ],
   "source": [
    "embedding_matrix.shape"
   ]
  },
  {
   "cell_type": "code",
   "execution_count": 36,
   "metadata": {},
   "outputs": [],
   "source": [
    "inputs1 = Input(shape=(2048,))\n",
    "fe1 = Dropout(0.5)(inputs1)\n",
    "fe2 = Dense(256, activation='relu')(fe1)\n",
    "inputs2 = Input(shape=(max_length,))\n",
    "se1 = Embedding(vocab_size, embedding_dim, mask_zero=True)(inputs2)\n",
    "se2 = Dropout(0.5)(se1)\n",
    "se3 = LSTM(256)(se2)\n",
    "decoder1 = add([fe2, se3])\n",
    "decoder2 = Dense(256, activation='relu')(decoder1)\n",
    "outputs = Dense(vocab_size, activation='softmax')(decoder2)\n",
    "model = Model(inputs=[inputs1, inputs2], outputs=outputs)"
   ]
  },
  {
   "cell_type": "code",
   "execution_count": 37,
   "metadata": {},
   "outputs": [
    {
     "name": "stdout",
     "output_type": "stream",
     "text": [
      "Model: \"model_1\"\n",
      "__________________________________________________________________________________________________\n",
      "Layer (type)                    Output Shape         Param #     Connected to                     \n",
      "==================================================================================================\n",
      "input_3 (InputLayer)            [(None, 33)]         0                                            \n",
      "__________________________________________________________________________________________________\n",
      "input_2 (InputLayer)            [(None, 2048)]       0                                            \n",
      "__________________________________________________________________________________________________\n",
      "embedding (Embedding)           (None, 33, 200)      326400      input_3[0][0]                    \n",
      "__________________________________________________________________________________________________\n",
      "dropout (Dropout)               (None, 2048)         0           input_2[0][0]                    \n",
      "__________________________________________________________________________________________________\n",
      "dropout_1 (Dropout)             (None, 33, 200)      0           embedding[0][0]                  \n",
      "__________________________________________________________________________________________________\n",
      "dense (Dense)                   (None, 256)          524544      dropout[0][0]                    \n",
      "__________________________________________________________________________________________________\n",
      "lstm (LSTM)                     (None, 256)          467968      dropout_1[0][0]                  \n",
      "__________________________________________________________________________________________________\n",
      "add (Add)                       (None, 256)          0           dense[0][0]                      \n",
      "                                                                 lstm[0][0]                       \n",
      "__________________________________________________________________________________________________\n",
      "dense_1 (Dense)                 (None, 256)          65792       add[0][0]                        \n",
      "__________________________________________________________________________________________________\n",
      "dense_2 (Dense)                 (None, 1632)         419424      dense_1[0][0]                    \n",
      "==================================================================================================\n",
      "Total params: 1,804,128\n",
      "Trainable params: 1,804,128\n",
      "Non-trainable params: 0\n",
      "__________________________________________________________________________________________________\n"
     ]
    }
   ],
   "source": [
    "model.summary()"
   ]
  },
  {
   "cell_type": "code",
   "execution_count": 38,
   "metadata": {},
   "outputs": [
    {
     "data": {
      "text/plain": [
       "<tensorflow.python.keras.engine.input_layer.InputLayer at 0x1b6865aa588>"
      ]
     },
     "execution_count": 38,
     "metadata": {},
     "output_type": "execute_result"
    }
   ],
   "source": [
    "model.get_layer(index=1)"
   ]
  },
  {
   "cell_type": "code",
   "execution_count": 39,
   "metadata": {},
   "outputs": [],
   "source": [
    "model.layers[2].set_weights([embedding_matrix])\n",
    "model.layers[2].trainable = False"
   ]
  },
  {
   "cell_type": "code",
   "execution_count": 40,
   "metadata": {},
   "outputs": [],
   "source": [
    "model.compile(loss='categorical_crossentropy', optimizer='adam')"
   ]
  },
  {
   "cell_type": "code",
   "execution_count": 41,
   "metadata": {},
   "outputs": [],
   "source": [
    "epochs = 10\n",
    "number_pics_per_bath = 3\n",
    "steps = len(train_descriptions)//number_pics_per_bath"
   ]
  },
  {
   "cell_type": "code",
   "execution_count": 42,
   "metadata": {},
   "outputs": [
    {
     "name": "stdout",
     "output_type": "stream",
     "text": [
      "<class 'str'>\n",
      "<class 'str'>\n",
      "<class 'str'>\n"
     ]
    },
    {
     "name": "stderr",
     "output_type": "stream",
     "text": [
      "C:\\Users\\rubio\\Anaconda3\\lib\\site-packages\\tensorflow\\python\\keras\\engine\\training.py:1844: UserWarning: `Model.fit_generator` is deprecated and will be removed in a future version. Please use `Model.fit`, which supports generators.\n",
      "  warnings.warn('`Model.fit_generator` is deprecated and '\n"
     ]
    },
    {
     "name": "stdout",
     "output_type": "stream",
     "text": [
      "<class 'str'>\n",
      "<class 'str'>\n",
      "<class 'str'>\n",
      "   1/2000 [..............................] - ETA: 1:42:28 - loss: 7.4487<class 'str'>\n",
      "<class 'str'>\n",
      "<class 'str'>\n",
      "   2/2000 [..............................] - ETA: 3:30 - loss: 7.3898   <class 'str'>\n",
      "<class 'str'>\n",
      "<class 'str'>\n",
      "   3/2000 [..............................] - ETA: 3:59 - loss: 7.3230<class 'str'>\n",
      "<class 'str'>\n",
      "<class 'str'>\n",
      "   4/2000 [..............................] - ETA: 3:40 - loss: 7.2637<class 'str'>\n",
      "<class 'str'>\n",
      "<class 'str'>\n",
      "   5/2000 [..............................] - ETA: 3:39 - loss: 7.1988<class 'str'>\n",
      "<class 'str'>\n",
      "<class 'str'>\n",
      "   6/2000 [..............................] - ETA: 3:37 - loss: 7.1361<class 'str'>\n",
      "<class 'str'>\n",
      "<class 'str'>\n",
      "   7/2000 [..............................] - ETA: 3:28 - loss: 7.0774<class 'str'>\n",
      "<class 'str'>\n",
      "<class 'str'>\n",
      "   8/2000 [..............................] - ETA: 3:31 - loss: 7.0162<class 'str'>\n",
      "<class 'str'>\n",
      "<class 'str'>\n",
      "   9/2000 [..............................] - ETA: 3:35 - loss: 6.9565<class 'str'>\n",
      "<class 'str'>\n",
      "<class 'str'>\n",
      "  10/2000 [..............................] - ETA: 3:38 - loss: 6.9165<class 'str'>\n",
      "<class 'str'>\n",
      "<class 'str'>\n",
      "  11/2000 [..............................] - ETA: 3:36 - loss: 6.8828<class 'str'>\n",
      "<class 'str'>\n",
      "<class 'str'>\n",
      "  12/2000 [..............................] - ETA: 3:34 - loss: 6.8534<class 'str'>\n",
      "<class 'str'>\n",
      "<class 'str'>\n",
      "  13/2000 [..............................] - ETA: 3:35 - loss: 6.8261<class 'str'>\n",
      "<class 'str'>\n",
      "<class 'str'>\n",
      "  14/2000 [..............................] - ETA: 3:32 - loss: 6.7994<class 'str'>\n",
      "<class 'str'>\n",
      "<class 'str'>\n",
      "  15/2000 [..............................] - ETA: 3:32 - loss: 6.7724<class 'str'>\n",
      "<class 'str'>\n",
      "<class 'str'>\n",
      "  16/2000 [..............................] - ETA: 3:30 - loss: 6.7483<class 'str'>\n",
      "<class 'str'>\n",
      "<class 'str'>\n",
      "  17/2000 [..............................] - ETA: 3:30 - loss: 6.7242<class 'str'>\n",
      "<class 'str'>\n",
      "<class 'str'>\n",
      "  18/2000 [..............................] - ETA: 3:29 - loss: 6.7015<class 'str'>\n",
      "<class 'str'>\n",
      "<class 'str'>\n",
      "  19/2000 [..............................] - ETA: 3:27 - loss: 6.6795<class 'str'>\n",
      "<class 'str'>\n",
      "<class 'str'>\n",
      "  20/2000 [..............................] - ETA: 3:26 - loss: 6.6591<class 'str'>\n",
      "<class 'str'>\n",
      "<class 'str'>\n",
      "  21/2000 [..............................] - ETA: 3:24 - loss: 6.6402<class 'str'>\n",
      "<class 'str'>\n",
      "<class 'str'>\n",
      "  22/2000 [..............................] - ETA: 3:24 - loss: 6.6221<class 'str'>\n",
      "<class 'str'>\n",
      "<class 'str'>\n",
      "  23/2000 [..............................] - ETA: 3:24 - loss: 6.6039<class 'str'>\n",
      "<class 'str'>\n",
      "<class 'str'>\n",
      "  24/2000 [..............................] - ETA: 3:23 - loss: 6.5864<class 'str'>\n",
      "<class 'str'>\n",
      "<class 'str'>\n",
      "  25/2000 [..............................] - ETA: 3:21 - loss: 6.5698<class 'str'>\n",
      "<class 'str'>\n",
      "<class 'str'>\n",
      "  26/2000 [..............................] - ETA: 3:20 - loss: 6.5536<class 'str'>\n",
      "<class 'str'>\n",
      "<class 'str'>\n",
      "  27/2000 [..............................] - ETA: 3:19 - loss: 6.5382<class 'str'>\n",
      "<class 'str'>\n",
      "<class 'str'>\n",
      "  28/2000 [..............................] - ETA: 3:19 - loss: 6.5226<class 'str'>\n",
      "<class 'str'>\n",
      "<class 'str'>\n",
      "  29/2000 [..............................] - ETA: 3:18 - loss: 6.5070<class 'str'>\n",
      "<class 'str'>\n",
      "<class 'str'>\n",
      "  30/2000 [..............................] - ETA: 3:17 - loss: 6.4915<class 'str'>\n",
      "<class 'str'>\n",
      "<class 'str'>\n",
      "  31/2000 [..............................] - ETA: 3:16 - loss: 6.4761<class 'str'>\n",
      "<class 'str'>\n",
      "<class 'str'>\n",
      "  32/2000 [..............................] - ETA: 3:17 - loss: 6.4619<class 'str'>\n",
      "<class 'str'>\n",
      "<class 'str'>\n",
      "  33/2000 [..............................] - ETA: 3:18 - loss: 6.4483<class 'str'>\n",
      "<class 'str'>\n",
      "<class 'str'>\n",
      "  34/2000 [..............................] - ETA: 3:21 - loss: 6.4346<class 'str'>\n",
      "<class 'str'>\n",
      "<class 'str'>\n",
      "  35/2000 [..............................] - ETA: 3:21 - loss: 6.4218<class 'str'>\n",
      "<class 'str'>\n",
      "<class 'str'>\n",
      "  36/2000 [..............................] - ETA: 3:21 - loss: 6.4095<class 'str'>\n",
      "<class 'str'>\n",
      "<class 'str'>\n",
      "  37/2000 [..............................] - ETA: 3:20 - loss: 6.3978<class 'str'>\n",
      "<class 'str'>\n",
      "<class 'str'>\n",
      "  38/2000 [..............................] - ETA: 3:20 - loss: 6.3864<class 'str'>\n",
      "<class 'str'>\n",
      "<class 'str'>\n",
      "  39/2000 [..............................] - ETA: 3:20 - loss: 6.3754<class 'str'>\n",
      "<class 'str'>\n",
      "<class 'str'>\n",
      "  40/2000 [..............................] - ETA: 3:21 - loss: 6.3646<class 'str'>\n",
      "<class 'str'>\n",
      "<class 'str'>\n",
      "  41/2000 [..............................] - ETA: 3:21 - loss: 6.3541<class 'str'>\n",
      "<class 'str'>\n",
      "<class 'str'>\n",
      "  42/2000 [..............................] - ETA: 3:20 - loss: 6.3440<class 'str'>\n",
      "<class 'str'>\n",
      "<class 'str'>\n",
      "  43/2000 [..............................] - ETA: 3:19 - loss: 6.3340<class 'str'>\n",
      "<class 'str'>\n",
      "<class 'str'>\n",
      "  44/2000 [..............................] - ETA: 3:20 - loss: 6.3242<class 'str'>\n",
      "<class 'str'>\n",
      "<class 'str'>\n",
      "  45/2000 [..............................] - ETA: 3:20 - loss: 6.3147<class 'str'>\n",
      "<class 'str'>\n",
      "<class 'str'>\n",
      "  46/2000 [..............................] - ETA: 3:21 - loss: 6.3054<class 'str'>\n",
      "<class 'str'>\n",
      "<class 'str'>\n",
      "  47/2000 [..............................] - ETA: 3:21 - loss: 6.2962<class 'str'>\n",
      "<class 'str'>\n",
      "<class 'str'>\n",
      "  48/2000 [..............................] - ETA: 3:21 - loss: 6.2872<class 'str'>\n",
      "<class 'str'>\n",
      "<class 'str'>\n",
      "  49/2000 [..............................] - ETA: 3:21 - loss: 6.2783<class 'str'>\n",
      "<class 'str'>\n",
      "<class 'str'>\n",
      "  50/2000 [..............................] - ETA: 3:20 - loss: 6.2697<class 'str'>\n",
      "<class 'str'>\n",
      "<class 'str'>\n",
      "  51/2000 [..............................] - ETA: 3:20 - loss: 6.2611<class 'str'>\n",
      "<class 'str'>\n",
      "<class 'str'>\n",
      "  52/2000 [..............................] - ETA: 3:20 - loss: 6.2527<class 'str'>\n",
      "<class 'str'>\n",
      "<class 'str'>\n",
      "  53/2000 [..............................] - ETA: 3:20 - loss: 6.2445<class 'str'>\n",
      "<class 'str'>\n",
      "<class 'str'>\n",
      "  54/2000 [..............................] - ETA: 3:20 - loss: 6.2363<class 'str'>\n",
      "<class 'str'>\n",
      "<class 'str'>\n",
      "  55/2000 [..............................] - ETA: 3:20 - loss: 6.2283<class 'str'>\n",
      "<class 'str'>\n",
      "<class 'str'>\n",
      "  56/2000 [..............................] - ETA: 3:20 - loss: 6.2205<class 'str'>\n",
      "<class 'str'>\n",
      "<class 'str'>\n",
      "  57/2000 [..............................] - ETA: 3:20 - loss: 6.2128<class 'str'>\n",
      "<class 'str'>\n",
      "<class 'str'>\n",
      "  58/2000 [..............................] - ETA: 3:20 - loss: 6.2052<class 'str'>\n",
      "<class 'str'>\n",
      "<class 'str'>\n",
      "  59/2000 [..............................] - ETA: 3:21 - loss: 6.1976<class 'str'>\n",
      "<class 'str'>\n",
      "<class 'str'>\n",
      "  60/2000 [..............................] - ETA: 3:21 - loss: 6.1903<class 'str'>\n",
      "<class 'str'>\n",
      "<class 'str'>\n",
      "  61/2000 [..............................] - ETA: 3:21 - loss: 6.1830<class 'str'>\n",
      "<class 'str'>\n",
      "<class 'str'>\n",
      "  62/2000 [..............................] - ETA: 3:20 - loss: 6.1760<class 'str'>\n",
      "<class 'str'>\n",
      "<class 'str'>\n",
      "  63/2000 [..............................] - ETA: 3:20 - loss: 6.1691<class 'str'>\n",
      "<class 'str'>\n",
      "<class 'str'>\n",
      "  64/2000 [..............................] - ETA: 3:19 - loss: 6.1623<class 'str'>\n",
      "<class 'str'>\n",
      "<class 'str'>\n",
      "  65/2000 [..............................] - ETA: 3:20 - loss: 6.1554<class 'str'>\n",
      "<class 'str'>\n",
      "<class 'str'>\n",
      "  66/2000 [..............................] - ETA: 3:20 - loss: 6.1486<class 'str'>\n",
      "<class 'str'>\n",
      "<class 'str'>\n",
      "  67/2000 [>.............................] - ETA: 3:20 - loss: 6.1419<class 'str'>\n",
      "<class 'str'>\n",
      "<class 'str'>\n",
      "  68/2000 [>.............................] - ETA: 3:20 - loss: 6.1353<class 'str'>\n",
      "<class 'str'>\n",
      "<class 'str'>\n",
      "  69/2000 [>.............................] - ETA: 3:19 - loss: 6.1288<class 'str'>\n",
      "<class 'str'>\n",
      "<class 'str'>\n",
      "  70/2000 [>.............................] - ETA: 3:19 - loss: 6.1226<class 'str'>\n",
      "<class 'str'>\n",
      "<class 'str'>\n",
      "  71/2000 [>.............................] - ETA: 3:20 - loss: 6.1165<class 'str'>\n",
      "<class 'str'>\n",
      "<class 'str'>\n",
      "  72/2000 [>.............................] - ETA: 3:19 - loss: 6.1105<class 'str'>\n",
      "<class 'str'>\n",
      "<class 'str'>\n",
      "  73/2000 [>.............................] - ETA: 3:19 - loss: 6.1047<class 'str'>\n",
      "<class 'str'>\n",
      "<class 'str'>\n"
     ]
    },
    {
     "name": "stdout",
     "output_type": "stream",
     "text": [
      "  74/2000 [>.............................] - ETA: 3:19 - loss: 6.0988<class 'str'>\n",
      "<class 'str'>\n",
      "<class 'str'>\n",
      "  75/2000 [>.............................] - ETA: 3:19 - loss: 6.0931<class 'str'>\n",
      "<class 'str'>\n",
      "<class 'str'>\n",
      "  76/2000 [>.............................] - ETA: 3:19 - loss: 6.0874<class 'str'>\n",
      "<class 'str'>\n",
      "<class 'str'>\n",
      "  77/2000 [>.............................] - ETA: 3:19 - loss: 6.0818<class 'str'>\n",
      "<class 'str'>\n",
      "<class 'str'>\n",
      "  78/2000 [>.............................] - ETA: 3:20 - loss: 6.0763<class 'str'>\n",
      "<class 'str'>\n",
      "<class 'str'>\n",
      "  79/2000 [>.............................] - ETA: 3:20 - loss: 6.0709<class 'str'>\n",
      "<class 'str'>\n",
      "<class 'str'>\n",
      "  80/2000 [>.............................] - ETA: 3:20 - loss: 6.0656<class 'str'>\n",
      "<class 'str'>\n",
      "<class 'str'>\n",
      "  81/2000 [>.............................] - ETA: 3:19 - loss: 6.0603<class 'str'>\n",
      "<class 'str'>\n",
      "<class 'str'>\n",
      "  82/2000 [>.............................] - ETA: 3:19 - loss: 6.0551<class 'str'>\n",
      "<class 'str'>\n",
      "<class 'str'>\n",
      "  83/2000 [>.............................] - ETA: 3:19 - loss: 6.0501<class 'str'>\n",
      "<class 'str'>\n",
      "<class 'str'>\n",
      "  84/2000 [>.............................] - ETA: 3:19 - loss: 6.0450<class 'str'>\n",
      "<class 'str'>\n",
      "<class 'str'>\n",
      "  85/2000 [>.............................] - ETA: 3:19 - loss: 6.0399<class 'str'>\n",
      "<class 'str'>\n",
      "<class 'str'>\n",
      "  86/2000 [>.............................] - ETA: 3:19 - loss: 6.0349<class 'str'>\n",
      "<class 'str'>\n",
      "<class 'str'>\n",
      "  87/2000 [>.............................] - ETA: 3:19 - loss: 6.0300<class 'str'>\n",
      "<class 'str'>\n",
      "<class 'str'>\n",
      "  88/2000 [>.............................] - ETA: 3:19 - loss: 6.0251<class 'str'>\n",
      "<class 'str'>\n",
      "<class 'str'>\n",
      "  89/2000 [>.............................] - ETA: 3:18 - loss: 6.0203<class 'str'>\n",
      "<class 'str'>\n",
      "<class 'str'>\n",
      "  90/2000 [>.............................] - ETA: 3:18 - loss: 6.0155<class 'str'>\n",
      "<class 'str'>\n",
      "<class 'str'>\n",
      "  91/2000 [>.............................] - ETA: 3:18 - loss: 6.0107<class 'str'>\n",
      "<class 'str'>\n",
      "<class 'str'>\n",
      "  92/2000 [>.............................] - ETA: 3:18 - loss: 6.0059<class 'str'>\n",
      "<class 'str'>\n",
      "<class 'str'>\n",
      "  93/2000 [>.............................] - ETA: 3:18 - loss: 6.0013<class 'str'>\n",
      "<class 'str'>\n",
      "<class 'str'>\n",
      "  94/2000 [>.............................] - ETA: 3:17 - loss: 5.9967<class 'str'>\n",
      "<class 'str'>\n",
      "<class 'str'>\n",
      "  95/2000 [>.............................] - ETA: 3:18 - loss: 5.9922<class 'str'>\n",
      "<class 'str'>\n",
      "<class 'str'>\n",
      "  96/2000 [>.............................] - ETA: 3:18 - loss: 5.9878<class 'str'>\n",
      "<class 'str'>\n",
      "<class 'str'>\n",
      "  97/2000 [>.............................] - ETA: 3:18 - loss: 5.9835<class 'str'>\n",
      "<class 'str'>\n",
      "<class 'str'>\n",
      "  98/2000 [>.............................] - ETA: 3:19 - loss: 5.9791<class 'str'>\n",
      "<class 'str'>\n",
      "<class 'str'>\n",
      "  99/2000 [>.............................] - ETA: 3:18 - loss: 5.9748<class 'str'>\n",
      "<class 'str'>\n",
      "<class 'str'>\n",
      " 100/2000 [>.............................] - ETA: 3:19 - loss: 5.9705<class 'str'>\n",
      "<class 'str'>\n",
      "<class 'str'>\n",
      " 101/2000 [>.............................] - ETA: 3:19 - loss: 5.9663<class 'str'>\n",
      "<class 'str'>\n",
      "<class 'str'>\n",
      " 102/2000 [>.............................] - ETA: 3:18 - loss: 5.9621<class 'str'>\n",
      "<class 'str'>\n",
      "<class 'str'>\n",
      " 103/2000 [>.............................] - ETA: 3:18 - loss: 5.9579<class 'str'>\n",
      "<class 'str'>\n",
      "<class 'str'>\n",
      " 104/2000 [>.............................] - ETA: 3:18 - loss: 5.9538<class 'str'>\n",
      "<class 'str'>\n",
      "<class 'str'>\n",
      " 105/2000 [>.............................] - ETA: 3:18 - loss: 5.9497<class 'str'>\n",
      "<class 'str'>\n",
      "<class 'str'>\n",
      " 106/2000 [>.............................] - ETA: 3:18 - loss: 5.9457<class 'str'>\n",
      "<class 'str'>\n",
      "<class 'str'>\n",
      " 107/2000 [>.............................] - ETA: 3:18 - loss: 5.9418<class 'str'>\n",
      "<class 'str'>\n",
      "<class 'str'>\n",
      " 108/2000 [>.............................] - ETA: 3:17 - loss: 5.9379<class 'str'>\n",
      "<class 'str'>\n",
      "<class 'str'>\n",
      " 109/2000 [>.............................] - ETA: 3:17 - loss: 5.9340<class 'str'>\n",
      "<class 'str'>\n",
      "<class 'str'>\n",
      " 110/2000 [>.............................] - ETA: 3:17 - loss: 5.9302<class 'str'>\n",
      "<class 'str'>\n",
      "<class 'str'>\n",
      " 111/2000 [>.............................] - ETA: 3:17 - loss: 5.9264<class 'str'>\n",
      "<class 'str'>\n",
      "<class 'str'>\n",
      " 112/2000 [>.............................] - ETA: 3:17 - loss: 5.9227<class 'str'>\n",
      "<class 'str'>\n",
      "<class 'str'>\n",
      " 113/2000 [>.............................] - ETA: 3:16 - loss: 5.9190<class 'str'>\n",
      "<class 'str'>\n",
      "<class 'str'>\n",
      " 114/2000 [>.............................] - ETA: 3:17 - loss: 5.9154<class 'str'>\n",
      "<class 'str'>\n",
      "<class 'str'>\n",
      " 115/2000 [>.............................] - ETA: 3:17 - loss: 5.9117<class 'str'>\n",
      "<class 'str'>\n",
      "<class 'str'>\n",
      " 116/2000 [>.............................] - ETA: 3:16 - loss: 5.9082<class 'str'>\n",
      "<class 'str'>\n",
      "<class 'str'>\n",
      " 117/2000 [>.............................] - ETA: 3:16 - loss: 5.9046<class 'str'>\n",
      "<class 'str'>\n",
      "<class 'str'>\n",
      " 118/2000 [>.............................] - ETA: 3:16 - loss: 5.9011<class 'str'>\n",
      "<class 'str'>\n",
      "<class 'str'>\n",
      " 119/2000 [>.............................] - ETA: 3:16 - loss: 5.8976<class 'str'>\n",
      "<class 'str'>\n",
      "<class 'str'>\n",
      " 120/2000 [>.............................] - ETA: 3:16 - loss: 5.8941<class 'str'>\n",
      "<class 'str'>\n",
      "<class 'str'>\n",
      " 121/2000 [>.............................] - ETA: 3:16 - loss: 5.8907<class 'str'>\n",
      "<class 'str'>\n",
      "<class 'str'>\n",
      " 122/2000 [>.............................] - ETA: 3:15 - loss: 5.8873<class 'str'>\n",
      "<class 'str'>\n",
      "<class 'str'>\n",
      " 123/2000 [>.............................] - ETA: 3:15 - loss: 5.8840<class 'str'>\n",
      "<class 'str'>\n",
      "<class 'str'>\n",
      " 124/2000 [>.............................] - ETA: 3:15 - loss: 5.8807<class 'str'>\n",
      "<class 'str'>\n",
      "<class 'str'>\n",
      " 125/2000 [>.............................] - ETA: 3:15 - loss: 5.8774<class 'str'>\n",
      "<class 'str'>\n",
      "<class 'str'>\n",
      " 126/2000 [>.............................] - ETA: 3:15 - loss: 5.8741<class 'str'>\n",
      "<class 'str'>\n",
      "<class 'str'>\n",
      " 127/2000 [>.............................] - ETA: 3:15 - loss: 5.8709<class 'str'>\n",
      "<class 'str'>\n",
      "<class 'str'>\n",
      " 128/2000 [>.............................] - ETA: 3:14 - loss: 5.8676<class 'str'>\n",
      "<class 'str'>\n",
      "<class 'str'>\n",
      " 129/2000 [>.............................] - ETA: 3:14 - loss: 5.8645<class 'str'>\n",
      "<class 'str'>\n",
      "<class 'str'>\n"
     ]
    },
    {
     "ename": "KeyboardInterrupt",
     "evalue": "",
     "output_type": "error",
     "traceback": [
      "\u001b[1;31m---------------------------------------------------------------------------\u001b[0m",
      "\u001b[1;31mKeyboardInterrupt\u001b[0m                         Traceback (most recent call last)",
      "\u001b[1;32m<ipython-input-42-5917c57d8a84>\u001b[0m in \u001b[0;36m<module>\u001b[1;34m\u001b[0m\n\u001b[0;32m      1\u001b[0m \u001b[1;32mfor\u001b[0m \u001b[0mi\u001b[0m \u001b[1;32min\u001b[0m \u001b[0mrange\u001b[0m\u001b[1;33m(\u001b[0m\u001b[0mepochs\u001b[0m\u001b[1;33m)\u001b[0m\u001b[1;33m:\u001b[0m\u001b[1;33m\u001b[0m\u001b[1;33m\u001b[0m\u001b[0m\n\u001b[0;32m      2\u001b[0m     \u001b[0mgenerator\u001b[0m \u001b[1;33m=\u001b[0m \u001b[0mdata_generator\u001b[0m\u001b[1;33m(\u001b[0m\u001b[0mtrain_descriptions\u001b[0m\u001b[1;33m,\u001b[0m \u001b[0mtrain_features\u001b[0m\u001b[1;33m,\u001b[0m \u001b[0mwordtoix\u001b[0m\u001b[1;33m,\u001b[0m \u001b[0mmax_length\u001b[0m\u001b[1;33m,\u001b[0m \u001b[0mnumber_pics_per_bath\u001b[0m\u001b[1;33m)\u001b[0m\u001b[1;33m\u001b[0m\u001b[1;33m\u001b[0m\u001b[0m\n\u001b[1;32m----> 3\u001b[1;33m     \u001b[0mmodel\u001b[0m\u001b[1;33m.\u001b[0m\u001b[0mfit_generator\u001b[0m\u001b[1;33m(\u001b[0m\u001b[0mgenerator\u001b[0m\u001b[1;33m,\u001b[0m \u001b[0mepochs\u001b[0m\u001b[1;33m=\u001b[0m\u001b[1;36m1\u001b[0m\u001b[1;33m,\u001b[0m \u001b[0msteps_per_epoch\u001b[0m\u001b[1;33m=\u001b[0m\u001b[0msteps\u001b[0m\u001b[1;33m,\u001b[0m \u001b[0mverbose\u001b[0m\u001b[1;33m=\u001b[0m\u001b[1;36m1\u001b[0m\u001b[1;33m)\u001b[0m\u001b[1;33m\u001b[0m\u001b[1;33m\u001b[0m\u001b[0m\n\u001b[0m\u001b[0;32m      4\u001b[0m     \u001b[0mmodel\u001b[0m\u001b[1;33m.\u001b[0m\u001b[0msave\u001b[0m\u001b[1;33m(\u001b[0m\u001b[1;34m'./model_weights/model_'\u001b[0m \u001b[1;33m+\u001b[0m \u001b[0mstr\u001b[0m\u001b[1;33m(\u001b[0m\u001b[0mi\u001b[0m\u001b[1;33m)\u001b[0m \u001b[1;33m+\u001b[0m \u001b[1;34m'.h5'\u001b[0m\u001b[1;33m)\u001b[0m\u001b[1;33m\u001b[0m\u001b[1;33m\u001b[0m\u001b[0m\n",
      "\u001b[1;32m~\\Anaconda3\\lib\\site-packages\\tensorflow\\python\\keras\\engine\\training.py\u001b[0m in \u001b[0;36mfit_generator\u001b[1;34m(self, generator, steps_per_epoch, epochs, verbose, callbacks, validation_data, validation_steps, validation_freq, class_weight, max_queue_size, workers, use_multiprocessing, shuffle, initial_epoch)\u001b[0m\n\u001b[0;32m   1859\u001b[0m         \u001b[0muse_multiprocessing\u001b[0m\u001b[1;33m=\u001b[0m\u001b[0muse_multiprocessing\u001b[0m\u001b[1;33m,\u001b[0m\u001b[1;33m\u001b[0m\u001b[1;33m\u001b[0m\u001b[0m\n\u001b[0;32m   1860\u001b[0m         \u001b[0mshuffle\u001b[0m\u001b[1;33m=\u001b[0m\u001b[0mshuffle\u001b[0m\u001b[1;33m,\u001b[0m\u001b[1;33m\u001b[0m\u001b[1;33m\u001b[0m\u001b[0m\n\u001b[1;32m-> 1861\u001b[1;33m         initial_epoch=initial_epoch)\n\u001b[0m\u001b[0;32m   1862\u001b[0m \u001b[1;33m\u001b[0m\u001b[0m\n\u001b[0;32m   1863\u001b[0m   def evaluate_generator(self,\n",
      "\u001b[1;32m~\\Anaconda3\\lib\\site-packages\\tensorflow\\python\\keras\\engine\\training.py\u001b[0m in \u001b[0;36mfit\u001b[1;34m(self, x, y, batch_size, epochs, verbose, callbacks, validation_split, validation_data, shuffle, class_weight, sample_weight, initial_epoch, steps_per_epoch, validation_steps, validation_batch_size, validation_freq, max_queue_size, workers, use_multiprocessing)\u001b[0m\n\u001b[0;32m   1098\u001b[0m                 _r=1):\n\u001b[0;32m   1099\u001b[0m               \u001b[0mcallbacks\u001b[0m\u001b[1;33m.\u001b[0m\u001b[0mon_train_batch_begin\u001b[0m\u001b[1;33m(\u001b[0m\u001b[0mstep\u001b[0m\u001b[1;33m)\u001b[0m\u001b[1;33m\u001b[0m\u001b[1;33m\u001b[0m\u001b[0m\n\u001b[1;32m-> 1100\u001b[1;33m               \u001b[0mtmp_logs\u001b[0m \u001b[1;33m=\u001b[0m \u001b[0mself\u001b[0m\u001b[1;33m.\u001b[0m\u001b[0mtrain_function\u001b[0m\u001b[1;33m(\u001b[0m\u001b[0miterator\u001b[0m\u001b[1;33m)\u001b[0m\u001b[1;33m\u001b[0m\u001b[1;33m\u001b[0m\u001b[0m\n\u001b[0m\u001b[0;32m   1101\u001b[0m               \u001b[1;32mif\u001b[0m \u001b[0mdata_handler\u001b[0m\u001b[1;33m.\u001b[0m\u001b[0mshould_sync\u001b[0m\u001b[1;33m:\u001b[0m\u001b[1;33m\u001b[0m\u001b[1;33m\u001b[0m\u001b[0m\n\u001b[0;32m   1102\u001b[0m                 \u001b[0mcontext\u001b[0m\u001b[1;33m.\u001b[0m\u001b[0masync_wait\u001b[0m\u001b[1;33m(\u001b[0m\u001b[1;33m)\u001b[0m\u001b[1;33m\u001b[0m\u001b[1;33m\u001b[0m\u001b[0m\n",
      "\u001b[1;32m~\\Anaconda3\\lib\\site-packages\\tensorflow\\python\\eager\\def_function.py\u001b[0m in \u001b[0;36m__call__\u001b[1;34m(self, *args, **kwds)\u001b[0m\n\u001b[0;32m    826\u001b[0m     \u001b[0mtracing_count\u001b[0m \u001b[1;33m=\u001b[0m \u001b[0mself\u001b[0m\u001b[1;33m.\u001b[0m\u001b[0mexperimental_get_tracing_count\u001b[0m\u001b[1;33m(\u001b[0m\u001b[1;33m)\u001b[0m\u001b[1;33m\u001b[0m\u001b[1;33m\u001b[0m\u001b[0m\n\u001b[0;32m    827\u001b[0m     \u001b[1;32mwith\u001b[0m \u001b[0mtrace\u001b[0m\u001b[1;33m.\u001b[0m\u001b[0mTrace\u001b[0m\u001b[1;33m(\u001b[0m\u001b[0mself\u001b[0m\u001b[1;33m.\u001b[0m\u001b[0m_name\u001b[0m\u001b[1;33m)\u001b[0m \u001b[1;32mas\u001b[0m \u001b[0mtm\u001b[0m\u001b[1;33m:\u001b[0m\u001b[1;33m\u001b[0m\u001b[1;33m\u001b[0m\u001b[0m\n\u001b[1;32m--> 828\u001b[1;33m       \u001b[0mresult\u001b[0m \u001b[1;33m=\u001b[0m \u001b[0mself\u001b[0m\u001b[1;33m.\u001b[0m\u001b[0m_call\u001b[0m\u001b[1;33m(\u001b[0m\u001b[1;33m*\u001b[0m\u001b[0margs\u001b[0m\u001b[1;33m,\u001b[0m \u001b[1;33m**\u001b[0m\u001b[0mkwds\u001b[0m\u001b[1;33m)\u001b[0m\u001b[1;33m\u001b[0m\u001b[1;33m\u001b[0m\u001b[0m\n\u001b[0m\u001b[0;32m    829\u001b[0m       \u001b[0mcompiler\u001b[0m \u001b[1;33m=\u001b[0m \u001b[1;34m\"xla\"\u001b[0m \u001b[1;32mif\u001b[0m \u001b[0mself\u001b[0m\u001b[1;33m.\u001b[0m\u001b[0m_experimental_compile\u001b[0m \u001b[1;32melse\u001b[0m \u001b[1;34m\"nonXla\"\u001b[0m\u001b[1;33m\u001b[0m\u001b[1;33m\u001b[0m\u001b[0m\n\u001b[0;32m    830\u001b[0m       \u001b[0mnew_tracing_count\u001b[0m \u001b[1;33m=\u001b[0m \u001b[0mself\u001b[0m\u001b[1;33m.\u001b[0m\u001b[0mexperimental_get_tracing_count\u001b[0m\u001b[1;33m(\u001b[0m\u001b[1;33m)\u001b[0m\u001b[1;33m\u001b[0m\u001b[1;33m\u001b[0m\u001b[0m\n",
      "\u001b[1;32m~\\Anaconda3\\lib\\site-packages\\tensorflow\\python\\eager\\def_function.py\u001b[0m in \u001b[0;36m_call\u001b[1;34m(self, *args, **kwds)\u001b[0m\n\u001b[0;32m    853\u001b[0m       \u001b[1;31m# In this case we have created variables on the first call, so we run the\u001b[0m\u001b[1;33m\u001b[0m\u001b[1;33m\u001b[0m\u001b[1;33m\u001b[0m\u001b[0m\n\u001b[0;32m    854\u001b[0m       \u001b[1;31m# defunned version which is guaranteed to never create variables.\u001b[0m\u001b[1;33m\u001b[0m\u001b[1;33m\u001b[0m\u001b[1;33m\u001b[0m\u001b[0m\n\u001b[1;32m--> 855\u001b[1;33m       \u001b[1;32mreturn\u001b[0m \u001b[0mself\u001b[0m\u001b[1;33m.\u001b[0m\u001b[0m_stateless_fn\u001b[0m\u001b[1;33m(\u001b[0m\u001b[1;33m*\u001b[0m\u001b[0margs\u001b[0m\u001b[1;33m,\u001b[0m \u001b[1;33m**\u001b[0m\u001b[0mkwds\u001b[0m\u001b[1;33m)\u001b[0m  \u001b[1;31m# pylint: disable=not-callable\u001b[0m\u001b[1;33m\u001b[0m\u001b[1;33m\u001b[0m\u001b[0m\n\u001b[0m\u001b[0;32m    856\u001b[0m     \u001b[1;32melif\u001b[0m \u001b[0mself\u001b[0m\u001b[1;33m.\u001b[0m\u001b[0m_stateful_fn\u001b[0m \u001b[1;32mis\u001b[0m \u001b[1;32mnot\u001b[0m \u001b[1;32mNone\u001b[0m\u001b[1;33m:\u001b[0m\u001b[1;33m\u001b[0m\u001b[1;33m\u001b[0m\u001b[0m\n\u001b[0;32m    857\u001b[0m       \u001b[1;31m# Release the lock early so that multiple threads can perform the call\u001b[0m\u001b[1;33m\u001b[0m\u001b[1;33m\u001b[0m\u001b[1;33m\u001b[0m\u001b[0m\n",
      "\u001b[1;32m~\\Anaconda3\\lib\\site-packages\\tensorflow\\python\\eager\\function.py\u001b[0m in \u001b[0;36m__call__\u001b[1;34m(self, *args, **kwargs)\u001b[0m\n\u001b[0;32m   2941\u001b[0m        filtered_flat_args) = self._maybe_define_function(args, kwargs)\n\u001b[0;32m   2942\u001b[0m     return graph_function._call_flat(\n\u001b[1;32m-> 2943\u001b[1;33m         filtered_flat_args, captured_inputs=graph_function.captured_inputs)  # pylint: disable=protected-access\n\u001b[0m\u001b[0;32m   2944\u001b[0m \u001b[1;33m\u001b[0m\u001b[0m\n\u001b[0;32m   2945\u001b[0m   \u001b[1;33m@\u001b[0m\u001b[0mproperty\u001b[0m\u001b[1;33m\u001b[0m\u001b[1;33m\u001b[0m\u001b[0m\n",
      "\u001b[1;32m~\\Anaconda3\\lib\\site-packages\\tensorflow\\python\\eager\\function.py\u001b[0m in \u001b[0;36m_call_flat\u001b[1;34m(self, args, captured_inputs, cancellation_manager)\u001b[0m\n\u001b[0;32m   1917\u001b[0m       \u001b[1;31m# No tape is watching; skip to running the function.\u001b[0m\u001b[1;33m\u001b[0m\u001b[1;33m\u001b[0m\u001b[1;33m\u001b[0m\u001b[0m\n\u001b[0;32m   1918\u001b[0m       return self._build_call_outputs(self._inference_function.call(\n\u001b[1;32m-> 1919\u001b[1;33m           ctx, args, cancellation_manager=cancellation_manager))\n\u001b[0m\u001b[0;32m   1920\u001b[0m     forward_backward = self._select_forward_and_backward_functions(\n\u001b[0;32m   1921\u001b[0m         \u001b[0margs\u001b[0m\u001b[1;33m,\u001b[0m\u001b[1;33m\u001b[0m\u001b[1;33m\u001b[0m\u001b[0m\n",
      "\u001b[1;32m~\\Anaconda3\\lib\\site-packages\\tensorflow\\python\\eager\\function.py\u001b[0m in \u001b[0;36mcall\u001b[1;34m(self, ctx, args, cancellation_manager)\u001b[0m\n\u001b[0;32m    558\u001b[0m               \u001b[0minputs\u001b[0m\u001b[1;33m=\u001b[0m\u001b[0margs\u001b[0m\u001b[1;33m,\u001b[0m\u001b[1;33m\u001b[0m\u001b[1;33m\u001b[0m\u001b[0m\n\u001b[0;32m    559\u001b[0m               \u001b[0mattrs\u001b[0m\u001b[1;33m=\u001b[0m\u001b[0mattrs\u001b[0m\u001b[1;33m,\u001b[0m\u001b[1;33m\u001b[0m\u001b[1;33m\u001b[0m\u001b[0m\n\u001b[1;32m--> 560\u001b[1;33m               ctx=ctx)\n\u001b[0m\u001b[0;32m    561\u001b[0m         \u001b[1;32melse\u001b[0m\u001b[1;33m:\u001b[0m\u001b[1;33m\u001b[0m\u001b[1;33m\u001b[0m\u001b[0m\n\u001b[0;32m    562\u001b[0m           outputs = execute.execute_with_cancellation(\n",
      "\u001b[1;32m~\\Anaconda3\\lib\\site-packages\\tensorflow\\python\\eager\\execute.py\u001b[0m in \u001b[0;36mquick_execute\u001b[1;34m(op_name, num_outputs, inputs, attrs, ctx, name)\u001b[0m\n\u001b[0;32m     58\u001b[0m     \u001b[0mctx\u001b[0m\u001b[1;33m.\u001b[0m\u001b[0mensure_initialized\u001b[0m\u001b[1;33m(\u001b[0m\u001b[1;33m)\u001b[0m\u001b[1;33m\u001b[0m\u001b[1;33m\u001b[0m\u001b[0m\n\u001b[0;32m     59\u001b[0m     tensors = pywrap_tfe.TFE_Py_Execute(ctx._handle, device_name, op_name,\n\u001b[1;32m---> 60\u001b[1;33m                                         inputs, attrs, num_outputs)\n\u001b[0m\u001b[0;32m     61\u001b[0m   \u001b[1;32mexcept\u001b[0m \u001b[0mcore\u001b[0m\u001b[1;33m.\u001b[0m\u001b[0m_NotOkStatusException\u001b[0m \u001b[1;32mas\u001b[0m \u001b[0me\u001b[0m\u001b[1;33m:\u001b[0m\u001b[1;33m\u001b[0m\u001b[1;33m\u001b[0m\u001b[0m\n\u001b[0;32m     62\u001b[0m     \u001b[1;32mif\u001b[0m \u001b[0mname\u001b[0m \u001b[1;32mis\u001b[0m \u001b[1;32mnot\u001b[0m \u001b[1;32mNone\u001b[0m\u001b[1;33m:\u001b[0m\u001b[1;33m\u001b[0m\u001b[1;33m\u001b[0m\u001b[0m\n",
      "\u001b[1;31mKeyboardInterrupt\u001b[0m: "
     ]
    }
   ],
   "source": [
    "# for i in range(epochs):\n",
    "#     generator = data_generator(train_descriptions, train_features, wordtoix, max_length, number_pics_per_bath)\n",
    "#     model.fit_generator(generator, epochs=1, steps_per_epoch=steps, verbose=1)\n",
    "#     model.save('./model_weights/model_' + str(i) + '.h5')"
   ]
  },
  {
   "cell_type": "code",
   "execution_count": null,
   "metadata": {},
   "outputs": [],
   "source": [
    "# for i in range(epochs):\n",
    "#     generator = data_generator(train_descriptions, train_features, wordtoix, max_length, number_pics_per_bath)\n",
    "#     model.fit_generator(generator, epochs=1, steps_per_epoch=steps, verbose=1)\n",
    "#     model.save('./model_weights/model_' + str(i) + '.h5')"
   ]
  },
  {
   "cell_type": "code",
   "execution_count": null,
   "metadata": {},
   "outputs": [],
   "source": [
    "# model.optimizer.lr = 0.0001\n",
    "# epochs = 10\n",
    "# number_pics_per_bath = 6\n",
    "# steps = len(train_descriptions)//number_pics_per_bath"
   ]
  },
  {
   "cell_type": "code",
   "execution_count": null,
   "metadata": {},
   "outputs": [],
   "source": [
    "# for i in range(epochs):\n",
    "#     generator = data_generator(train_descriptions, train_features, wordtoix, max_length, number_pics_per_bath)\n",
    "#     model.fit_generator(generator, epochs=1, steps_per_epoch=steps, verbose=1)\n",
    "#     #model.save('./model_weights/model_' + str(i) + '.h5')"
   ]
  },
  {
   "cell_type": "code",
   "execution_count": null,
   "metadata": {},
   "outputs": [],
   "source": [
    "# model.save_weights('./model_weights/model_30.h5')"
   ]
  },
  {
   "cell_type": "code",
   "execution_count": null,
   "metadata": {
    "scrolled": true
   },
   "outputs": [],
   "source": [
    "model.load_weights('./model_weights/model_30.h5')"
   ]
  },
  {
   "cell_type": "code",
   "execution_count": null,
   "metadata": {},
   "outputs": [],
   "source": [
    "images = 'E://TFM/Flickr8k/Images/'"
   ]
  },
  {
   "cell_type": "code",
   "execution_count": null,
   "metadata": {},
   "outputs": [],
   "source": [
    "with open(\"E://TFM/Pickle/encoded_test_images.pkl\", \"rb\") as encoded_pickle:\n",
    "    encoding_test = load(encoded_pickle)"
   ]
  },
  {
   "cell_type": "code",
   "execution_count": null,
   "metadata": {},
   "outputs": [],
   "source": [
    "def greedySearch(photo):\n",
    "    in_text = 'startseq'\n",
    "    for i in range(max_length):\n",
    "        sequence = [wordtoix[w] for w in in_text.split() if w in wordtoix]\n",
    "        sequence = pad_sequences([sequence], maxlen=max_length)\n",
    "        yhat = model.predict([photo,sequence], verbose=0)\n",
    "        yhat = np.argmax(yhat)\n",
    "        word = ixtoword[yhat]\n",
    "        in_text += ' ' + word\n",
    "        if word == 'endseq':\n",
    "            break\n",
    "    final = in_text.split()\n",
    "    final = final[1:-1]\n",
    "    final = ' '.join(final)\n",
    "    return final"
   ]
  },
  {
   "cell_type": "code",
   "execution_count": null,
   "metadata": {},
   "outputs": [],
   "source": [
    "z+=1\n",
    "pic = list(encoding_test.keys())[z]\n",
    "image = encoding_test[pic].reshape((1,2048))\n",
    "x=plt.imread(images+pic)\n",
    "plt.imshow(x)\n",
    "plt.show()\n",
    "print(\"Greedy:\",greedySearch(image))"
   ]
  },
  {
   "cell_type": "code",
   "execution_count": null,
   "metadata": {},
   "outputs": [],
   "source": [
    "z+=1\n",
    "pic = list(encoding_test.keys())[z]\n",
    "image = encoding_test[pic].reshape((1,2048))\n",
    "x=plt.imread(images+pic)\n",
    "plt.imshow(x)\n",
    "plt.show()\n",
    "print(\"Greedy:\",greedySearch(image))"
   ]
  },
  {
   "cell_type": "code",
   "execution_count": null,
   "metadata": {},
   "outputs": [],
   "source": [
    "z+=1\n",
    "pic = list(encoding_test.keys())[z]\n",
    "image = encoding_test[pic].reshape((1,2048))\n",
    "x=plt.imread(images+pic)\n",
    "plt.imshow(x)\n",
    "plt.show()\n",
    "print(\"Greedy:\",greedySearch(image))"
   ]
  },
  {
   "cell_type": "code",
   "execution_count": null,
   "metadata": {},
   "outputs": [],
   "source": [
    "z+=1\n",
    "pic = list(encoding_test.keys())[z]\n",
    "image = encoding_test[pic].reshape((1,2048))\n",
    "x=plt.imread(images+pic)\n",
    "plt.imshow(x)\n",
    "plt.show()\n",
    "print(\"Greedy:\",greedySearch(image))"
   ]
  },
  {
   "cell_type": "code",
   "execution_count": null,
   "metadata": {},
   "outputs": [],
   "source": [
    "z+=1\n",
    "pic = list(encoding_test.keys())[z]\n",
    "image = encoding_test[pic].reshape((1,2048))\n",
    "x=plt.imread(images+pic)\n",
    "plt.imshow(x)\n",
    "plt.show()\n",
    "print(\"Greedy:\",greedySearch(image))"
   ]
  },
  {
   "cell_type": "code",
   "execution_count": null,
   "metadata": {},
   "outputs": [],
   "source": [
    "image = encoding_test['1394368714_3bc7c19969.jpg'].reshape((1,2048))\n",
    "x=plt.imread('E://TFM/Flickr8k/Images/1394368714_3bc7c19969.jpg')\n",
    "plt.imshow(x)\n",
    "plt.show()\n",
    "print(\"Greedy:\",greedySearch(image))"
   ]
  }
 ],
 "metadata": {
  "kernelspec": {
   "display_name": "Python 3",
   "language": "python",
   "name": "python3"
  },
  "language_info": {
   "codemirror_mode": {
    "name": "ipython",
    "version": 3
   },
   "file_extension": ".py",
   "mimetype": "text/x-python",
   "name": "python",
   "nbconvert_exporter": "python",
   "pygments_lexer": "ipython3",
   "version": "3.7.4"
  }
 },
 "nbformat": 4,
 "nbformat_minor": 2
}
