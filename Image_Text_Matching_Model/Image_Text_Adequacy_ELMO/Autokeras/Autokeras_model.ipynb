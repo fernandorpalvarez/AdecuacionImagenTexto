{
 "cells": [
  {
   "cell_type": "code",
   "execution_count": 1,
   "id": "e3c9b1f4",
   "metadata": {},
   "outputs": [],
   "source": [
    "import numpy as np\n",
    "import pandas as pd\n",
    "import tensorflow as tf\n",
    "from sklearn.model_selection import train_test_split\n",
    "\n",
    "import autokeras as ak"
   ]
  },
  {
   "cell_type": "code",
   "execution_count": 2,
   "id": "a8441eb7",
   "metadata": {},
   "outputs": [],
   "source": [
    "df_train = pd.read_pickle(\"C:/Users/rubio/Jupyter Notebook/AdecuacionImagenTexto/Image_Text_Matching_Model/Image_Text_Adequacy_ELMO/df_train_combined.pkl\")\n",
    "df_test = pd.read_pickle(\"C:/Users/rubio/Jupyter Notebook/AdecuacionImagenTexto/Image_Text_Matching_Model/Image_Text_Adequacy_ELMO/df_test_combined.pkl\")"
   ]
  },
  {
   "cell_type": "code",
   "execution_count": 3,
   "id": "6dab1928",
   "metadata": {},
   "outputs": [],
   "source": [
    "xtrain, xvalid, ytrain, yvalid = train_test_split(np.array(df_train['combined_input'].values.tolist()), \n",
    "                                                  df_train['label'],  \n",
    "                                                  random_state=42, \n",
    "                                                  test_size=0.2)\n",
    "\n",
    "xtest, ytest = df_test['combined_input'],df_test['label']\n",
    "xtest, ytest = np.array(xtest.tolist()), np.array(ytest.tolist())"
   ]
  },
  {
   "cell_type": "code",
   "execution_count": 4,
   "id": "d6cca422",
   "metadata": {},
   "outputs": [
    {
     "name": "stdout",
     "output_type": "stream",
     "text": [
      "Trial 10 Complete [00h 13m 13s]\n",
      "val_accuracy: 0.9936666488647461\n",
      "\n",
      "Best val_accuracy So Far: 0.9941666722297668\n",
      "Total elapsed time: 03h 39m 17s\n",
      "INFO:tensorflow:Oracle triggered exit\n",
      "INFO:tensorflow:Assets written to: .\\structured_data_classifier\\best_model\\assets\n",
      "WARNING:tensorflow:Unresolved object in checkpoint: (root).optimizer.iter\n",
      "WARNING:tensorflow:Unresolved object in checkpoint: (root).optimizer.beta_1\n",
      "WARNING:tensorflow:Unresolved object in checkpoint: (root).optimizer.beta_2\n",
      "WARNING:tensorflow:Unresolved object in checkpoint: (root).optimizer.decay\n",
      "WARNING:tensorflow:Unresolved object in checkpoint: (root).optimizer.learning_rate\n",
      "WARNING:tensorflow:A checkpoint was restored (e.g. tf.train.Checkpoint.restore or tf.keras.Model.load_weights) but not all checkpointed values were used. See above for specific issues. Use expect_partial() on the load status object, e.g. tf.train.Checkpoint.restore(...).expect_partial(), to silence these warnings, or use assert_consumed() to make the check explicit. See https://www.tensorflow.org/guide/checkpoint#loading_mechanics for details.\n",
      "157/157 [==============================] - 3s 17ms/step\n",
      "157/157 [==============================] - 11s 13ms/step - loss: 0.8725 - accuracy: 0.8106\n",
      "[0.8724653124809265, 0.8105999827384949]\n"
     ]
    }
   ],
   "source": [
    "# Initialize the structured data classifier.\n",
    "clf = ak.StructuredDataClassifier(\n",
    "    overwrite=True, max_trials=10\n",
    ")  # It tries 10 different models.\n",
    "# Feed the structured data classifier with training data.\n",
    "clf.fit(\n",
    "    xtrain,\n",
    "    ytrain,\n",
    "    validation_data=(xvalid,yvalid),\n",
    ")\n",
    "# Predict with the best model.\n",
    "predicted_y = clf.predict(xtest)\n",
    "# Evaluate the best model with testing data.\n",
    "print(clf.evaluate(xtest, ytest))"
   ]
  },
  {
   "cell_type": "code",
   "execution_count": 5,
   "id": "6c09aad5",
   "metadata": {},
   "outputs": [],
   "source": [
    "model = clf.export_model()\n",
    "model.save(\"model_autokeras.h5\")"
   ]
  }
 ],
 "metadata": {
  "kernelspec": {
   "display_name": "Python 3",
   "language": "python",
   "name": "python3"
  },
  "language_info": {
   "codemirror_mode": {
    "name": "ipython",
    "version": 3
   },
   "file_extension": ".py",
   "mimetype": "text/x-python",
   "name": "python",
   "nbconvert_exporter": "python",
   "pygments_lexer": "ipython3",
   "version": "3.7.4"
  }
 },
 "nbformat": 4,
 "nbformat_minor": 5
}
