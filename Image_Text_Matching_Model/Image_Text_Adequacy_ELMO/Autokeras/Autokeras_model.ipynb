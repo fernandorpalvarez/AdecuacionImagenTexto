{
 "cells": [
  {
   "cell_type": "code",
   "execution_count": 1,
   "id": "e3c9b1f4",
   "metadata": {},
   "outputs": [],
   "source": [
    "import numpy as np\n",
    "import pandas as pd\n",
    "import tensorflow as tf\n",
    "from sklearn.model_selection import train_test_split\n",
    "\n",
    "import autokeras as ak"
   ]
  },
  {
   "cell_type": "code",
   "execution_count": 2,
   "id": "a8441eb7",
   "metadata": {},
   "outputs": [],
   "source": [
    "df_train = pd.read_pickle(\"C:/Users/rubio/Jupyter Notebook/Adecuacion Imagen Texto/Image_Text_Matching_Model/Image_Text_Adequacy_ELMO/df_train_combined.pkl\")\n",
    "df_test = pd.read_pickle(\"C:/Users/rubio/Jupyter Notebook/Adecuacion Imagen Texto/Image_Text_Matching_Model/Image_Text_Adequacy_ELMO/df_test_combined.pkl\")"
   ]
  },
  {
   "cell_type": "code",
   "execution_count": 3,
   "id": "6dab1928",
   "metadata": {},
   "outputs": [],
   "source": [
    "xtrain, xvalid, ytrain, yvalid = train_test_split(np.array(df_train['combined_input'].values.tolist()), \n",
    "                                                  df_train['label'],  \n",
    "                                                  random_state=42, \n",
    "                                                  test_size=0.2)\n",
    "validation_data = (xvalid,yvalid)\n",
    "\n",
    "xtest, ytest = df_test['combined_input'],df_test['label']\n",
    "xtest, ytest = np.array(xtest.tolist()), np.array(ytest.tolist())"
   ]
  },
  {
   "cell_type": "code",
   "execution_count": 4,
   "id": "d6cca422",
   "metadata": {},
   "outputs": [],
   "source": [
    "# Initialize the structured data classifier.\n",
    "clf = ak.StructuredDataClassifier(\n",
    "    overwrite=True, max_trials=3\n",
    ")  # It tries 3 different models.\n",
    "# Feed the structured data classifier with training data.\n",
    "clf.fit(\n",
    "    # The path to the train.csv file.\n",
    "    xtrain,\n",
    "    # The name of the label column.\n",
    "    ytrain,\n",
    "    epochs=10,\n",
    ")\n",
    "# Predict with the best model.\n",
    "predicted_y = clf.predict(xtest)\n",
    "# Evaluate the best model with testing data.\n",
    "print(clf.evaluate(xtest, ytest))"
   ]
  },
  {
   "cell_type": "code",
   "execution_count": 5,
   "id": "6c09aad5",
   "metadata": {},
   "outputs": [],
   "source": [
    "model = clf.export_model()\n",
    "model.save(\"model_autokeras.h5\")"
   ]
  }
 ],
 "metadata": {
  "kernelspec": {
   "display_name": "Python 3",
   "language": "python",
   "name": "python3"
  },
  "language_info": {
   "codemirror_mode": {
    "name": "ipython",
    "version": 3
   },
   "file_extension": ".py",
   "mimetype": "text/x-python",
   "name": "python",
   "nbconvert_exporter": "python",
   "pygments_lexer": "ipython3",
   "version": "3.7.4"
  }
 },
 "nbformat": 4,
 "nbformat_minor": 5
}
