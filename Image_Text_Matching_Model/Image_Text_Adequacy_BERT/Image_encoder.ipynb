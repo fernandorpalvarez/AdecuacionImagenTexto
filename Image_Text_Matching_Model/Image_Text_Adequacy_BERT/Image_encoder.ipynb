{
 "cells": [
  {
   "cell_type": "code",
   "execution_count": 28,
   "id": "07ac8137",
   "metadata": {},
   "outputs": [],
   "source": [
    "from tensorflow.keras.applications import VGG19\n",
    "from tensorflow.keras.applications.inception_v3 import InceptionV3\n",
    "from keras.applications.inception_v3 import preprocess_input\n",
    "from tensorflow.keras.layers import Input, Flatten\n",
    "from tensorflow.keras import Model\n",
    "from keras.preprocessing import image as kimage\n",
    "import numpy as np"
   ]
  },
  {
   "cell_type": "code",
   "execution_count": 29,
   "id": "50818211",
   "metadata": {},
   "outputs": [],
   "source": [
    "def load_Encoder():\n",
    "    # Load the inception v3 model\n",
    "    model_encoder = InceptionV3(weights='imagenet')\n",
    "    # Deffining the Encoder model\n",
    "    model_encoder = Model(model_encoder.input, model_encoder.layers[-2].output)\n",
    "    return model_encoder\n",
    "\n",
    "def preprocess_img(image_path):\n",
    "    # Convert all the images to size 299x299 as expected by the inception v3 model\n",
    "    img = kimage.load_img(image_path, target_size=(299, 299))\n",
    "    # Convert PIL image to numpy array of 3-dimensions\n",
    "    x = kimage.img_to_array(img)\n",
    "    # Add one more dimension\n",
    "    x = np.expand_dims(x, axis=0)\n",
    "    # preprocess the images using preprocess_input() from inception module\n",
    "    x = preprocess_input(x)\n",
    "    return x\n",
    "    \n",
    "# Function to encode a given image into a vector of size (2048, )\n",
    "def encode(image_path, model):\n",
    "    image = preprocess_img(image_path) # preprocess the image\n",
    "    fea_vec = model.predict(image) # Get the encoding vector for the image\n",
    "    fea_vec = np.reshape(fea_vec, fea_vec.shape[1]) # reshape from (1, 2048) to (2048, )\n",
    "    return fea_vec"
   ]
  },
  {
   "cell_type": "code",
   "execution_count": 30,
   "id": "db2a5288",
   "metadata": {},
   "outputs": [],
   "source": [
    "model = load_Encoder()\n",
    "encoded_img = encode(\"E:/TFM/Flickr8k/Images/667626_18933d713e.jpg\",model)"
   ]
  }
 ],
 "metadata": {
  "kernelspec": {
   "display_name": "Python 3",
   "language": "python",
   "name": "python3"
  },
  "language_info": {
   "codemirror_mode": {
    "name": "ipython",
    "version": 3
   },
   "file_extension": ".py",
   "mimetype": "text/x-python",
   "name": "python",
   "nbconvert_exporter": "python",
   "pygments_lexer": "ipython3",
   "version": "3.7.4"
  }
 },
 "nbformat": 4,
 "nbformat_minor": 5
}
