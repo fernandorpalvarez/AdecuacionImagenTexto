{
 "cells": [
  {
   "cell_type": "code",
   "execution_count": 1,
   "id": "90863c0d",
   "metadata": {},
   "outputs": [],
   "source": [
    "from googletrans import Translator"
   ]
  },
  {
   "cell_type": "code",
   "execution_count": 4,
   "id": "408e631f",
   "metadata": {},
   "outputs": [],
   "source": [
    "def traductor(text, src=\"es\", dest=\"en\"):\n",
    "    t = Translator()\n",
    "    return t.translate(text, src=src, dest=dest).text"
   ]
  },
  {
   "cell_type": "code",
   "execution_count": 6,
   "id": "f5d6d875",
   "metadata": {},
   "outputs": [
    {
     "data": {
      "text/plain": [
       "'Little girl in pink dress'"
      ]
     },
     "execution_count": 6,
     "metadata": {},
     "output_type": "execute_result"
    }
   ],
   "source": [
    "traductor(\"Niña con vestido rosa\")"
   ]
  }
 ],
 "metadata": {
  "kernelspec": {
   "display_name": "Python 3",
   "language": "python",
   "name": "python3"
  },
  "language_info": {
   "codemirror_mode": {
    "name": "ipython",
    "version": 3
   },
   "file_extension": ".py",
   "mimetype": "text/x-python",
   "name": "python",
   "nbconvert_exporter": "python",
   "pygments_lexer": "ipython3",
   "version": "3.7.4"
  }
 },
 "nbformat": 4,
 "nbformat_minor": 5
}
